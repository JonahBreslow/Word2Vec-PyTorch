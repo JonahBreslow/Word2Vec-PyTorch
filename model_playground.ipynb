{
 "cells": [
  {
   "cell_type": "code",
   "execution_count": 164,
   "metadata": {},
   "outputs": [],
   "source": [
    "import torch\n",
    "from src.params import Word2VecParams\n",
    "from scipy.spatial.distance import cosine\n",
    "import numpy as np\n",
    "import random\n",
    "params = Word2VecParams()\n",
    "params.DEVICE\n",
    "model = torch.load(\"word2vec_models/model.pt\", map_location=params.DEVICE)\n",
    "# model = torch.load(\"word2vec_models/model.pt\", map_location=params.DEVICE)"
   ]
  },
  {
   "cell_type": "code",
   "execution_count": 165,
   "metadata": {},
   "outputs": [],
   "source": [
    "vocab_words = list(model.vocab.stoi.keys())"
   ]
  },
  {
   "cell_type": "code",
   "execution_count": 220,
   "metadata": {},
   "outputs": [
    {
     "name": "stdout",
     "output_type": "stream",
     "text": [
      "NOLAN (918) - bender (0.345)  jonathan (0.316)  screenwriter (0.296)  neal (0.292)  cinematographer (0.283)  \n",
      "\n",
      "SEGMENTAL (80) - circular (0.312)  tracery (0.288)  enclosing (0.272)  staircase (0.266)  gatehouse (0.263)  \n",
      "\n",
      "CHENNAI (473) - india (0.470)  tamil (0.442)  nadu (0.415)  mumbai (0.411)  telugu (0.399)  \n",
      "\n",
      "LIQUIDATED (89) - 439 (0.280)  unbuilt (0.264)  speyer (0.250)  leaks (0.245)  quique (0.243)  \n",
      "\n",
      "ILM (217) - manohla (0.283)  visual (0.282)  chips (0.274)  animators (0.274)  digitally (0.264)  \n",
      "\n"
     ]
    }
   ],
   "source": [
    "words = random.sample(vocab_words, 5)\n",
    "for word in words:\n",
    "    print(f\"{word.upper()} ({model.vocab.get_freq(word):,})\", end=\" - \")\n",
    "    [print(f\"{w} ({s:.3f}) \", end= \" \") for w, s in model.get_similar_words(word,n=5).items()]\n",
    "    print(\"\\n\")"
   ]
  }
 ],
 "metadata": {
  "interpreter": {
   "hash": "52c0c6de0aab231423f0fd35e212dc5f7780a6886e416d55bc82a1f50433a663"
  },
  "kernelspec": {
   "display_name": "Python 3.8.16 ('.venv38': venv)",
   "language": "python",
   "name": "python3"
  },
  "language_info": {
   "codemirror_mode": {
    "name": "ipython",
    "version": 3
   },
   "file_extension": ".py",
   "mimetype": "text/x-python",
   "name": "python",
   "nbconvert_exporter": "python",
   "pygments_lexer": "ipython3",
   "version": "3.8.16"
  },
  "orig_nbformat": 4
 },
 "nbformat": 4,
 "nbformat_minor": 2
}
