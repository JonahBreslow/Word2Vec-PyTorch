{
 "cells": [
  {
   "cell_type": "code",
   "execution_count": 1,
   "metadata": {},
   "outputs": [
    {
     "name": "stderr",
     "output_type": "stream",
     "text": [
      "/Users/jonahbreslow/Dev/kaggle/otto_recsys/.venv38/lib/python3.8/site-packages/tqdm/auto.py:22: TqdmWarning: IProgress not found. Please update jupyter and ipywidgets. See https://ipywidgets.readthedocs.io/en/stable/user_install.html\n",
      "  from .autonotebook import tqdm as notebook_tqdm\n"
     ]
    }
   ],
   "source": [
    "import torch\n",
    "from src.params import Word2VecParams\n",
    "from scipy.spatial.distance import cosine\n",
    "import numpy as np\n",
    "import random\n",
    "params = Word2VecParams()\n",
    "params.DEVICE\n",
    "model = torch.load(\"/Volumes/GoogleDrive/My Drive/ColabNotebooks/word2vec_models/model.pt\", map_location=params.DEVICE)\n",
    "# model = torch.load(\"word2vec_models/model.pt\", map_location=params.DEVICE)"
   ]
  },
  {
   "cell_type": "code",
   "execution_count": 2,
   "metadata": {},
   "outputs": [],
   "source": [
    "vocab_words = list(model.vocab.stoi.keys())\n"
   ]
  },
  {
   "cell_type": "code",
   "execution_count": 204,
   "metadata": {},
   "outputs": [
    {
     "name": "stdout",
     "output_type": "stream",
     "text": [
      "sealed - 21\n"
     ]
    },
    {
     "data": {
      "text/plain": [
       "{'queen': 0.25037602,\n",
       " 'eventual': 0.24979277,\n",
       " 'formations': 0.23531243,\n",
       " 'arkansas': 0.23332195,\n",
       " 'occupy': 0.23209113,\n",
       " 'users': 0.23095313,\n",
       " '1880': 0.22454116,\n",
       " 'mix': 0.22036687,\n",
       " 'absence': 0.21858206,\n",
       " 'trek': 0.2155372}"
      ]
     },
     "execution_count": 204,
     "metadata": {},
     "output_type": "execute_result"
    }
   ],
   "source": [
    "word = random.choice(vocab_words)\n",
    "frequency = model.vocab.get_freq(word)\n",
    "print(f\"{word} - {frequency}\")\n",
    "model.get_similar_words(word,n=10)"
   ]
  },
  {
   "cell_type": "code",
   "execution_count": null,
   "metadata": {},
   "outputs": [],
   "source": []
  }
 ],
 "metadata": {
  "interpreter": {
   "hash": "52c0c6de0aab231423f0fd35e212dc5f7780a6886e416d55bc82a1f50433a663"
  },
  "kernelspec": {
   "display_name": "Python 3.8.16 ('.venv38': venv)",
   "language": "python",
   "name": "python3"
  },
  "language_info": {
   "codemirror_mode": {
    "name": "ipython",
    "version": 3
   },
   "file_extension": ".py",
   "mimetype": "text/x-python",
   "name": "python",
   "nbconvert_exporter": "python",
   "pygments_lexer": "ipython3",
   "version": "3.8.16"
  },
  "orig_nbformat": 4
 },
 "nbformat": 4,
 "nbformat_minor": 2
}
