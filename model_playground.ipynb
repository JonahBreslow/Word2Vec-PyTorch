{
 "cells": [
  {
   "cell_type": "code",
   "execution_count": 137,
   "metadata": {},
   "outputs": [],
   "source": [
    "import torch\n",
    "from src.params import Word2VecParams\n",
    "from scipy.spatial.distance import cosine\n",
    "import numpy as np\n",
    "import random\n",
    "params = Word2VecParams()\n",
    "params.DEVICE\n",
    "model = torch.load(\"/Volumes/GoogleDrive/My Drive/ColabNotebooks/word2vec_models/model.pt\", map_location=params.DEVICE)\n",
    "# model = torch.load(\"word2vec_models/model.pt\", map_location=params.DEVICE)"
   ]
  },
  {
   "cell_type": "code",
   "execution_count": 138,
   "metadata": {},
   "outputs": [],
   "source": [
    "vocab_words = list(model.vocab.stoi.keys())"
   ]
  },
  {
   "cell_type": "code",
   "execution_count": 163,
   "metadata": {},
   "outputs": [
    {
     "name": "stdout",
     "output_type": "stream",
     "text": [
      "pottery - 660\n"
     ]
    },
    {
     "data": {
      "text/plain": [
       "{'artifacts': 0.5103631,\n",
       " 'excavations': 0.47233668,\n",
       " 'archaeological': 0.47115043,\n",
       " 'ceramic': 0.45900485,\n",
       " 'neolithic': 0.44094202,\n",
       " 'ancient': 0.43736196,\n",
       " 'fragments': 0.4361327,\n",
       " 'excavated': 0.4325779,\n",
       " 'artefacts': 0.4315252,\n",
       " 'earliest': 0.42939523}"
      ]
     },
     "execution_count": 163,
     "metadata": {},
     "output_type": "execute_result"
    }
   ],
   "source": [
    "word = random.choice(vocab_words)\n",
    "frequency = model.vocab.get_freq(word)\n",
    "print(f\"{word} - {frequency}\")\n",
    "model.get_similar_words(word,n=10)"
   ]
  },
  {
   "cell_type": "code",
   "execution_count": 121,
   "metadata": {},
   "outputs": [
    {
     "data": {
      "text/plain": [
       "{'technology': 0.7141386,\n",
       " 'software': 0.69150573,\n",
       " 'computers': 0.64137274,\n",
       " 'systems': 0.6133039,\n",
       " 'using': 0.60679054,\n",
       " 'models': 0.6018457,\n",
       " 'technical': 0.6008465,\n",
       " 'devices': 0.59673834,\n",
       " 'device': 0.5870832,\n",
       " 'electronic': 0.5843297}"
      ]
     },
     "execution_count": 121,
     "metadata": {},
     "output_type": "execute_result"
    }
   ],
   "source": [
    "model.get_similar_words('computer',n=10)"
   ]
  },
  {
   "cell_type": "code",
   "execution_count": null,
   "metadata": {},
   "outputs": [],
   "source": []
  }
 ],
 "metadata": {
  "interpreter": {
   "hash": "52c0c6de0aab231423f0fd35e212dc5f7780a6886e416d55bc82a1f50433a663"
  },
  "kernelspec": {
   "display_name": "Python 3.8.16 ('.venv38': venv)",
   "language": "python",
   "name": "python3"
  },
  "language_info": {
   "codemirror_mode": {
    "name": "ipython",
    "version": 3
   },
   "file_extension": ".py",
   "mimetype": "text/x-python",
   "name": "python",
   "nbconvert_exporter": "python",
   "pygments_lexer": "ipython3",
   "version": "3.8.16"
  },
  "orig_nbformat": 4
 },
 "nbformat": 4,
 "nbformat_minor": 2
}
